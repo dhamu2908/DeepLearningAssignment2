{
  "cells": [
    {
      "cell_type": "markdown",
      "metadata": {
        "id": "view-in-github",
        "colab_type": "text"
      },
      "source": [
        "<a href=\"https://colab.research.google.com/github/dhamu2908/DeepLearningAssignment2/blob/main/DL_Assign2_train_py.ipynb\" target=\"_parent\"><img src=\"https://colab.research.google.com/assets/colab-badge.svg\" alt=\"Open In Colab\"/></a>"
      ]
    },
    {
      "cell_type": "code",
      "execution_count": null,
      "metadata": {
        "_cell_guid": "008e21df-dc2c-4958-bbc4-b606b82ca2f4",
        "_uuid": "d8928a92-02b0-4c34-a0bd-58c8ef8facf2",
        "jupyter": {
          "outputs_hidden": false
        },
        "trusted": true,
        "id": "7juiysorGjQ9"
      },
      "outputs": [],
      "source": [
        "import torch\n",
        "import torch.nn as nn\n",
        "import torch.optim as optim\n",
        "from torch.utils.data import DataLoader, random_split\n",
        "import torchvision\n",
        "from torchvision import transforms, models, datasets\n",
        "import argparse\n",
        "import time\n",
        "import os\n",
        "\n",
        "# Configuration constants\n",
        "IMAGE_SIZE = 224\n",
        "NORMALIZATION_MEAN = [0.485, 0.456, 0.406]\n",
        "NORMALIZATION_STD = [0.229, 0.224, 0.225]\n",
        "\n",
        "def initialize_pretrained(base_model, trainable_layers):\n",
        "    \"\"\"Create and configure a pretrained model with specified trainable layers\"\"\"\n",
        "    model_architectures = {\n",
        "        'googlenet': models.googlenet,\n",
        "        'inception': models.inception_v3,\n",
        "        'resnet': models.resnet50\n",
        "    }\n",
        "\n",
        "    creator = model_architectures.get(base_model.lower())\n",
        "    if not creator:\n",
        "        raise ValueError(f\"Unsupported architecture: {base_model}\")\n",
        "\n",
        "    network = creator(weights=\"DEFAULT\")\n",
        "\n",
        "    # Freeze all parameters initially\n",
        "    for param in network.parameters():\n",
        "        param.requires_grad = False\n",
        "\n",
        "    # Unfreeze specified layers\n",
        "    if trainable_layers > 0:\n",
        "        layers = list(network.children())[-trainable_layers:]\n",
        "        for layer in layers:\n",
        "            for param in layer.parameters():\n",
        "                param.requires_grad = True\n",
        "\n",
        "    # Modify final layer\n",
        "    in_features = network.fc.in_features\n",
        "    network.fc = nn.Linear(in_features, 10)\n",
        "\n",
        "    return network\n",
        "\n",
        "def prepare_data_loaders(train_path, test_path, batch_size):\n",
        "    \"\"\"Create data loaders with augmentation and normalization\"\"\"\n",
        "    data_transforms = transforms.Compose([\n",
        "        transforms.Resize((IMAGE_SIZE, IMAGE_SIZE)),\n",
        "        transforms.ToTensor(),\n",
        "        transforms.Normalize(NORMALIZATION_MEAN, NORMALIZATION_STD)\n",
        "    ])\n",
        "\n",
        "    full_dataset = datasets.ImageFolder(train_path, data_transforms)\n",
        "    test_data = datasets.ImageFolder(test_path, data_transforms)\n",
        "\n",
        "    # Split dataset\n",
        "    train_size = int(0.8 * len(full_dataset))\n",
        "    val_size = len(full_dataset) - train_size\n",
        "    train_set, val_set = random_split(full_dataset, [train_size, val_size])\n",
        "\n",
        "    return (\n",
        "        DataLoader(train_set, batch_size=batch_size, shuffle=True),\n",
        "        DataLoader(val_set, batch_size=batch_size),\n",
        "        DataLoader(test_data, batch_size=batch_size)\n",
        "    )\n",
        "\n",
        "def compute_accuracy(model, data_loader, device):\n",
        "    \"\"\"Calculate model accuracy on given dataset\"\"\"\n",
        "    correct = 0\n",
        "    total = 0\n",
        "    model.eval()\n",
        "    with torch.no_grad():\n",
        "        for images, labels in data_loader:\n",
        "            images, labels = images.to(device), labels.to(device)\n",
        "            outputs = model(images)\n",
        "            _, predicted = torch.max(outputs.data, 1)\n",
        "            total += labels.size(0)\n",
        "            correct += (predicted == labels).sum().item()\n",
        "    return correct / total\n",
        "\n",
        "def train_model(model, train_loader, val_loader, epochs, device):\n",
        "    \"\"\"Main training procedure with progress tracking\"\"\"\n",
        "    criterion = nn.CrossEntropyLoss()\n",
        "    optimizer = optim.Adam(filter(lambda p: p.requires_grad, model.parameters()), lr=0.001)\n",
        "\n",
        "    best_acc = 0.0\n",
        "    model = model.to(device)\n",
        "\n",
        "    for epoch in range(epochs):\n",
        "        start_time = time.time()\n",
        "        model.train()\n",
        "        running_loss = 0.0\n",
        "\n",
        "        for images, labels in train_loader:\n",
        "            images, labels = images.to(device), labels.to(device)\n",
        "\n",
        "            optimizer.zero_grad()\n",
        "            outputs = model(images)\n",
        "            loss = criterion(outputs, labels)\n",
        "            loss.backward()\n",
        "            optimizer.step()\n",
        "\n",
        "            running_loss += loss.item() * images.size(0)\n",
        "\n",
        "        # Calculate metrics\n",
        "        epoch_loss = running_loss / len(train_loader.dataset)\n",
        "        val_acc = compute_accuracy(model, val_loader, device)\n",
        "        train_acc = compute_accuracy(model, train_loader, device)\n",
        "        epoch_time = time.time() - start_time\n",
        "\n",
        "        # Display progress\n",
        "        print(f\"Epoch {epoch+1}/{epochs} | \"\n",
        "              f\"Time: {epoch_time:.1f}s | \"\n",
        "              f\"Loss: {epoch_loss:.4f} | \"\n",
        "              f\"Train Acc: {train_acc:.4f} | \"\n",
        "              f\"Val Acc: {val_acc:.4f}\")\n",
        "\n",
        "        # Save best model\n",
        "        if val_acc > best_acc:\n",
        "            best_acc = val_acc\n",
        "            torch.save(model.state_dict(), 'best_model.pth')\n",
        "\n",
        "    return model\n",
        "\n",
        "def main_execution(args):\n",
        "    \"\"\"Orchestrate the complete workflow\"\"\"\n",
        "    device = torch.device(\"cuda\" if torch.cuda.is_available() else \"cpu\")\n",
        "\n",
        "    # Prepare data\n",
        "    train_loader, val_loader, test_loader = prepare_data_loaders(\n",
        "        args.train_dataset_path,\n",
        "        args.test_dataset_path,\n",
        "        args.batch_size\n",
        "    )\n",
        "\n",
        "    # Initialize model\n",
        "    network = initialize_pretrained(\n",
        "        base_model='googlenet',\n",
        "        trainable_layers=args.unfreezed_layers_from_end\n",
        "    ).to(device)\n",
        "\n",
        "    # Train model\n",
        "    trained_model = train_model(\n",
        "        network,\n",
        "        train_loader,\n",
        "        val_loader,\n",
        "        args.epochs,\n",
        "        device\n",
        "    )\n",
        "\n",
        "    # Final evaluation\n",
        "    test_acc = compute_accuracy(trained_model, test_loader, device)\n",
        "    print(f\"\\nFinal Test Accuracy: {test_acc:.4f}\")\n",
        "\n",
        "if __name__ == \"__main__\":\n",
        "    # Configure command line interface\n",
        "    parser = argparse.ArgumentParser()\n",
        "    parser.add_argument(\"-ptrn\", \"--train_dataset_path\",\n",
        "                      type=str, default=\"inaturalist_12K/train\")\n",
        "    parser.add_argument(\"-ptst\", \"--test_dataset_path\",\n",
        "                      type=str, default=\"inaturalist_12K/val\")\n",
        "    parser.add_argument(\"-ep\", \"--epochs\", type=int, default=15)\n",
        "    parser.add_argument(\"-bs\", \"--batch_size\", type=int, default=256)\n",
        "    parser.add_argument(\"-ul\", \"--unfreezed_layers_from_end\",\n",
        "                      type=int, default=0)\n",
        "\n",
        "    cli_args = parser.parse_args()\n",
        "    main_execution(cli_args)"
      ]
    },
    {
      "cell_type": "code",
      "execution_count": null,
      "metadata": {
        "_cell_guid": "5c20061e-cd8a-41a9-a02b-58830301229e",
        "_uuid": "45e289d9-25ed-4681-a142-ba4437da8a31",
        "jupyter": {
          "outputs_hidden": false
        },
        "trusted": true,
        "id": "k2tEsDMsGjQ-"
      },
      "outputs": [],
      "source": []
    },
    {
      "cell_type": "code",
      "execution_count": null,
      "metadata": {
        "_cell_guid": "db40df95-5a34-4af7-a2f6-93df505fe844",
        "_kg_hide-output": true,
        "_uuid": "7bf9aca4-44ec-48d6-83fc-a11573b2055c",
        "jupyter": {
          "outputs_hidden": false
        },
        "trusted": true,
        "id": "poapQdPzGjQ-"
      },
      "outputs": [],
      "source": []
    },
    {
      "cell_type": "code",
      "execution_count": null,
      "metadata": {
        "_cell_guid": "84a48d46-c7a5-4062-a270-debcddda14a1",
        "_uuid": "5c8b457a-812e-4cbe-827a-06ca1f5dd96d",
        "jupyter": {
          "outputs_hidden": false
        },
        "trusted": true,
        "id": "100CmMYfGjQ_"
      },
      "outputs": [],
      "source": []
    },
    {
      "cell_type": "code",
      "execution_count": null,
      "metadata": {
        "_cell_guid": "78f72e9e-2d11-488f-b76f-d2349b4ca352",
        "_uuid": "a627d21f-95e2-43f6-a42d-6055af8d946c",
        "jupyter": {
          "outputs_hidden": false
        },
        "trusted": true,
        "id": "0-EPSPnPGjRA"
      },
      "outputs": [],
      "source": []
    },
    {
      "cell_type": "code",
      "execution_count": null,
      "metadata": {
        "_cell_guid": "c7a5caf6-b1bb-4a04-8547-181c99eb7621",
        "_uuid": "84ccc368-543e-4236-bed3-43ccafd73f3d",
        "trusted": true,
        "id": "LLpBIDuzGjRA"
      },
      "outputs": [],
      "source": []
    }
  ],
  "metadata": {
    "kaggle": {
      "accelerator": "nvidiaTeslaT4",
      "dataSources": [
        {
          "datasetId": 4713606,
          "sourceId": 8003852,
          "sourceType": "datasetVersion"
        },
        {
          "datasetId": 4735372,
          "sourceId": 8033488,
          "sourceType": "datasetVersion"
        }
      ],
      "dockerImageVersionId": 30674,
      "isGpuEnabled": true,
      "isInternetEnabled": true,
      "language": "python",
      "sourceType": "notebook"
    },
    "kernelspec": {
      "display_name": "Python 3",
      "language": "python",
      "name": "python3"
    },
    "language_info": {
      "codemirror_mode": {
        "name": "ipython",
        "version": 3
      },
      "file_extension": ".py",
      "mimetype": "text/x-python",
      "name": "python",
      "nbconvert_exporter": "python",
      "pygments_lexer": "ipython3",
      "version": "3.10.13"
    },
    "colab": {
      "provenance": [],
      "include_colab_link": true
    }
  },
  "nbformat": 4,
  "nbformat_minor": 0
}