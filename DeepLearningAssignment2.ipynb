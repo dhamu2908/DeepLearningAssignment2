{
  "nbformat": 4,
  "nbformat_minor": 0,
  "metadata": {
    "colab": {
      "provenance": [],
      "authorship_tag": "ABX9TyOVd7AMGX1E/GE9V1kjWhmo",
      "include_colab_link": true
    },
    "kernelspec": {
      "name": "python3",
      "display_name": "Python 3"
    },
    "language_info": {
      "name": "python"
    }
  },
  "cells": [
    {
      "cell_type": "markdown",
      "metadata": {
        "id": "view-in-github",
        "colab_type": "text"
      },
      "source": [
        "<a href=\"https://colab.research.google.com/github/dhamu2908/DeepLearningAssignment2/blob/main/DeepLearningAssignment2.ipynb\" target=\"_parent\"><img src=\"https://colab.research.google.com/assets/colab-badge.svg\" alt=\"Open In Colab\"/></a>"
      ]
    },
    {
      "cell_type": "code",
      "execution_count": null,
      "metadata": {
        "id": "15hMWUxxbIfJ",
        "colab": {
          "base_uri": "https://localhost:8080/",
          "height": 36
        },
        "outputId": "387e4f10-e7e7-4892-bba8-e4f67ade5a40"
      },
      "outputs": [
        {
          "output_type": "execute_result",
          "data": {
            "text/plain": [
              "'\\nDeep Learning Assignment 2\\nCS24M027 Dhamodharan Muthu Muniyandi\\nIIT MADRAS\\n'"
            ],
            "application/vnd.google.colaboratory.intrinsic+json": {
              "type": "string"
            }
          },
          "metadata": {},
          "execution_count": 2
        }
      ],
      "source": [
        "\"\"\"\n",
        "Deep Learning Assignment 2\n",
        "CS24M027 Dhamodharan Muthu Muniyandi\n",
        "IIT MADRAS\n",
        "\"\"\""
      ]
    },
    {
      "cell_type": "code",
      "source": [
        "import os\n",
        "\n",
        "#Data Accessing check\n",
        "\n",
        "print(\"Exploring contents of /kaggle/input/dldata:\")\n",
        "dataset_path = \"/kaggle/input/dldata/inaturalist_12K\"\n",
        "train_path = os.path.join(dataset_path, \"train\")\n",
        "val_path = os.path.join(dataset_path, \"val\")\n",
        "\n",
        "# Verifying the existence of directories\n",
        "is_train_available = os.path.isdir(train_path)\n",
        "is_val_available = os.path.isdir(val_path)\n",
        "\n",
        "\n",
        "print(f\"Train directory found: {is_train_available}\")\n",
        "print(f\"Validation directory found: {is_val_available}\")\n",
        "\n",
        "if is_train_available:\n",
        "    print(\"Sample items in training folder:\", os.listdir(train_path)[:5])\n",
        "\n",
        "if is_val_available:\n",
        "    print(\"Sample items in validation folder:\", os.listdir(val_path)[:5])"
      ],
      "metadata": {
        "id": "k2qREJMUkC-v"
      },
      "execution_count": null,
      "outputs": []
    },
    {
      "cell_type": "code",
      "source": [],
      "metadata": {
        "id": "xs61B-TSkDAr"
      },
      "execution_count": null,
      "outputs": []
    },
    {
      "cell_type": "code",
      "source": [],
      "metadata": {
        "id": "VqpIvaD6kDC0"
      },
      "execution_count": null,
      "outputs": []
    },
    {
      "cell_type": "code",
      "source": [],
      "metadata": {
        "id": "sANVJlZ5kDFG"
      },
      "execution_count": null,
      "outputs": []
    },
    {
      "cell_type": "code",
      "source": [],
      "metadata": {
        "id": "EGGwEEbJkDH7"
      },
      "execution_count": null,
      "outputs": []
    },
    {
      "cell_type": "code",
      "source": [],
      "metadata": {
        "id": "AP9gXO2qkDKB"
      },
      "execution_count": null,
      "outputs": []
    },
    {
      "cell_type": "code",
      "source": [],
      "metadata": {
        "id": "wfR1YU6okDLp"
      },
      "execution_count": null,
      "outputs": []
    },
    {
      "cell_type": "code",
      "source": [],
      "metadata": {
        "id": "6K4Ma1LmkDNr"
      },
      "execution_count": null,
      "outputs": []
    },
    {
      "cell_type": "code",
      "source": [],
      "metadata": {
        "id": "7GHZlJfIkDP7"
      },
      "execution_count": null,
      "outputs": []
    },
    {
      "cell_type": "code",
      "source": [],
      "metadata": {
        "id": "rLu7ShPWkDTa"
      },
      "execution_count": null,
      "outputs": []
    }
  ]
}